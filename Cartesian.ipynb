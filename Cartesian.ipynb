{
  "nbformat": 4,
  "nbformat_minor": 0,
  "metadata": {
    "colab": {
      "name": "Cartesian.ipynb",
      "provenance": [],
      "collapsed_sections": []
    },
    "kernelspec": {
      "name": "python3",
      "display_name": "Python 3"
    },
    "language_info": {
      "name": "python"
    }
  },
  "cells": [
    {
      "cell_type": "code",
      "source": [
        "s=\"This declaration represents a political commitment among declaration partners to advance a positive vision for the Internet in this era of a united Europe\"\n",
        "\n",
        "k=s.split()[::-1]\n",
        "l=[]\n",
        "for i in k:\n",
        "  l.append(i)\n",
        "\n",
        "print(\" \".join(l))  "
      ],
      "metadata": {
        "colab": {
          "base_uri": "https://localhost:8080/"
        },
        "id": "DIpUnaEbg_82",
        "outputId": "9a6ec0c5-04aa-44d0-a736-0ef142590d67"
      },
      "execution_count": null,
      "outputs": [
        {
          "output_type": "stream",
          "name": "stdout",
          "text": [
            "Europe united a of era this in Internet the for vision positive a advance to partners declaration among commitment political a represents declaration This\n"
          ]
        }
      ]
    },
    {
      "cell_type": "code",
      "source": [
        "from collections import Counter\n",
        "s = \"This declaration represents a political commitment among declaration partners to advance a positive vision for the Internet in this era of a united europe\"\n",
        "# breakdown the string into a list of words \n",
        "m=[] \n",
        "words = s.split()  \n",
        "# sort the list  \n",
        "words.sort()  \n",
        "# display the sorted words  \n",
        "for word in words:  \n",
        "   m.append(word)  \n",
        "    \n",
        "Counter = Counter(m)  \n",
        "most_occur = Counter.most_common(2)\n",
        "print(most_occur)\n"
      ],
      "metadata": {
        "colab": {
          "base_uri": "https://localhost:8080/"
        },
        "id": "BOWkOCoZhwjB",
        "outputId": "95485ff7-a94f-4611-fafa-f8de52280d2d"
      },
      "execution_count": null,
      "outputs": [
        {
          "output_type": "stream",
          "name": "stdout",
          "text": [
            "[('a', 3), ('declaration', 2)]\n"
          ]
        }
      ]
    }
  ]
}